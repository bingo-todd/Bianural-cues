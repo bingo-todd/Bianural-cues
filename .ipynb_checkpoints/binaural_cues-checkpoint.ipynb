{
 "cells": [
  {
   "cell_type": "code",
   "execution_count": 15,
   "metadata": {
    "ExecuteTime": {
     "end_time": "2019-04-13T11:25:41.997023Z",
     "start_time": "2019-04-13T11:25:41.976867Z"
    },
    "collapsed": true
   },
   "outputs": [],
   "source": [
    "import pdb\n",
    "import scipy.signal as dsp\n",
    "%matplotlib inline"
   ]
  },
  {
   "cell_type": "code",
   "execution_count": 3,
   "metadata": {
    "ExecuteTime": {
     "end_time": "2019-04-13T11:21:34.790841Z",
     "start_time": "2019-04-13T11:21:31.153973Z"
    },
    "code_folding": [],
    "collapsed": true
   },
   "outputs": [],
   "source": [
    "# %%writefile Binaural_cues.py\n",
    "import numpy as np\n",
    "import os\n",
    "import h5py\n",
    "import scipy.signal as dsp\n",
    "import gammatone.filters as gt_filters\n",
    "import soundfile as sf\n",
    "import cPickle\n",
    "import APGF\n",
    "# from ipywidgets import FloatProgress\n",
    "# from IPython.display import display\n",
    "\n",
    "import time\n",
    "\n",
    "import matplotlib\n",
    "# matplotlib.use('TkAgg')\n",
    "import matplotlib.pyplot as plt\n",
    "\n",
    "def Efficient_ccf(x1,x2):\n",
    "    \"\"\"calculate cross-crrelation function in frequency domain, which is more \n",
    "    efficient than the direct calculation\"\"\"\n",
    "    \n",
    "    if x1.shape[0] != x2.shape[0]:\n",
    "        raise Exception('length mismatch')\n",
    "    wav_len = x1.shape[0]\n",
    "    # hanning window before fft\n",
    "    wf = np.hanning(wav_len)\n",
    "    x1 = x1*wf\n",
    "    x2 = x2*wf\n",
    "\n",
    "    X1 = np.fft.fft(x1,2*wav_len-1)# equivalent to add zeros \n",
    "    X2 = np.fft.fft(x2,2*wav_len-1)\n",
    "    ccf_unshift = np.real(np.fft.ifft(np.multiply(X1,np.conjugate(X2))))\n",
    "    ccf = np.concatenate([ccf_unshift[wav_len:],ccf_unshift[:wav_len]],axis=0)\n",
    "    \n",
    "    return ccf\n",
    "    \n",
    "    \n",
    "def get_ITD(x,fs,max_delay=None,inter_method='parabolic'):\n",
    "    \"\"\"\n",
    "    estimate ITD based on interaural corss-correlation function\n",
    "    itd = chann0_delay - chann1_delay\n",
    "    corr(i) = sum(x0[t]*x1[t-i])\n",
    "        | >0 chann1 lead\n",
    "    itd |\n",
    "        | <0 chann1 lead\n",
    "    input: \n",
    "        max_delay: maximum value of ITD, default value: 1ms\n",
    "        inter_method: method of ccf interpolation, \"None\"(default),\"parabolic\",'exponential'.\n",
    "    \"\"\"\n",
    "    wav_len = x.shape[0]\n",
    "    \n",
    "    # detrend\n",
    "    # x_detrend = x-np.mean(x,axis=0)\n",
    "    x_detrend = x\n",
    "    \n",
    "    if max_delay == None:\n",
    "        max_delay = int(1e-3*fs)\n",
    "    \n",
    "    if False:\n",
    "        # time domain\n",
    "        ccf_full = np.correlate(x_detrend[:,0],x_detrend[:,1],mode='full')\n",
    "        ccf = ccf_full[wav_len-1-max_delay:wav_len+max_delay]\n",
    "    else:\n",
    "        # frequency domain\n",
    "        ccf_full = Efficient_ccf(x_detrend[:,0],x_detrend[:,1])\n",
    "        ccf = ccf_full[wav_len-1-max_delay:wav_len+max_delay]\n",
    "    \n",
    "    ccf_std = ccf/(np.sqrt(np.sum(x_detrend[:,0]**2)*np.sum(x_detrend[:,1]**2)))\n",
    "    max_pos = np.argmax(ccf)\n",
    "    \n",
    "    ######################\n",
    "    if False:\n",
    "        plt.figure(1)\n",
    "        plt.clf()\n",
    "        plt.subplot(311);    plt.plot(ccf_std);\n",
    "        plt.plot([wav_len-max_delay-1,wav_len-max_delay-1],[0,1],'r')\n",
    "        plt.plot([wav_len+max_delay-1,wav_len+max_delay-1],[0,1],'r')\n",
    "        plt.plot(wav_len-1-max_delay+max_pos,ccf_std[wav_len-1-max_delay+max_pos],'x',linewidth=2)\n",
    "\n",
    "        plt.subplot(312);    plt.plot(x[:,0])\n",
    "        plt.subplot(313);    plt.plot(x[:,1])\n",
    "\n",
    "        plt.show(block=False)\n",
    "        plt.pause(0.001)\n",
    "    ######################\n",
    "    \n",
    "    # exponential interpolation \n",
    "    delta = 0\n",
    "    if inter_method == 'exponential':\n",
    "        if max_pos> 0 and max_pos < max_delay*2-2:\n",
    "            if np.min(ccf[max_pos-1:max_pos+2]) > 0:\n",
    "                delta = (np.log(ccf[max_pos+1])-np.log(ccf[max_pos-1]))/\\\n",
    "                            (4*np.log(ccf[max_pos])-\n",
    "                             2*np.log(ccf[max_pos-1])-\n",
    "                             2*np.log(ccf[max_pos+1]))\n",
    "    elif inter_method == 'parabolic':\n",
    "        if max_pos> 0 and max_pos < max_delay*2-2:\n",
    "            delta = (ccf[max_pos-1]-ccf[max_pos+1])/(2*(ccf[max_pos+1]-2*ccf[max_pos]+ccf[max_pos-1]))\n",
    "        \n",
    "    ITD = float((max_pos-max_delay-1+delta))/fs*1e3\n",
    "\n",
    "    return [ITD,ccf_std]\n",
    "\n",
    "\n",
    "\n",
    "def get_ILD(x):\n",
    "    \"\"\" ILD\n",
    "    To be consistent with ITD:\n",
    "    ild = 10log10(chann1_energy/chann0_energy)\n",
    "        |>0 chann1 lead\n",
    "    ild |\n",
    "        |<0 chann0 lead\n",
    "    \"\"\"\n",
    "    if np.sum(x[:,1]**2) == 0:\n",
    "    #         plt.plot(x)\n",
    "        print ('right channel no signal')\n",
    "        return np.infty\n",
    "    if np.sum(x[:,1]**2) == 0:\n",
    "        print 'left channel no signal'\n",
    "    \n",
    "    return 10*np.log10(np.sum(x[:,1]**2)/np.sum(x[:,0]**2)+1e-10)\n",
    "\n",
    "def Haircell_model(x,fs,ihc_type='Lindemann'):\n",
    "    \"\"\"minic the transduction of inner hair cell, in other words, extract the envelope of inputsignal\n",
    "  \n",
    "    Args:\n",
    "        x: input signal\n",
    "        ihc_type: different model used in previous work\n",
    "            Lindemann: half-wave rectify + low-pass filter(1th Butterworth, cutoff-frequency 800Hz)\n",
    "            Breebart: half-wave rectify + low-pass filter(5th, cutoff-frequency 770Hz)\n",
    "            More to added....\n",
    "            \n",
    "    Returns:\n",
    "        the envelope of input x\n",
    "        \n",
    "    \"\"\"\n",
    "    if ihc_type== 'Lindemann':\n",
    "        x_rectify = np.maximum(x,0) # half wav rectification\n",
    "        # low-pass filter\n",
    "        b,a = dsp.butter(1,800.0/(fs/2.0))\n",
    "        env = dsp.filtfilt(b,a,x_rectify,axis=1)\n",
    "    elif ihc_type == 'Breebaart':\n",
    "        x_rectify = np.maximum(x,0)\n",
    "        # low pass filter\n",
    "        b,a = dsp.butter(5,2000.0/(fs/2.0))\n",
    "        env = x_rectify\n",
    "        for i in xrange(5):\n",
    "            env = dsp.filtfilt(b,a,env,axis=1)\n",
    "    elif ihc_type == 'Roman':\n",
    "        x_rectify = np.maximum(x,0)\n",
    "        env = np.sqrt(x_rectify)\n",
    "    elif ihc_type == 'rectify':\n",
    "        env = np.maximum(x,0)\n",
    "    else:\n",
    "        raise Exception('unknown model type')\n",
    "    \n",
    "    return env\n",
    "        \n",
    "    \n",
    "def GetERB(cf):\n",
    "    \"\"\"calculate the ERB(Hz) of given center frequency\n",
    "    cf: center frequency in kHz\n",
    "    \"\"\"\n",
    "    return 24.7*(4.37*cf/1000+1.0)\n",
    "\n",
    "\n",
    "def GF_spectrogram(wav,fs,cfs):\n",
    "    \"\"\"auditory peripheral model, which consists of Gammatone filterbank, half-wave rectifier,\n",
    "    and low-pass filter\n",
    "    \n",
    "    Args:\n",
    "        wav: wave form, length(in sameple)*chanel_num\n",
    "        fs:\n",
    "        \n",
    "    Returns:\n",
    "        spectralgram, size: freq_channel_num*channel_num*sampel_num\n",
    "    \n",
    "    \"\"\"\n",
    "    coefs = gt_filters.make_erb_filters(fs=fs,centre_freqs=cfs)    \n",
    "    left_audiogram = gt_filters.erb_filterbank(wav[:,0],coefs)\n",
    "    right_audiogram = gt_filters.erb_filterbank(wav[:,1],coefs)\n",
    "    \n",
    "    lr_audiogram = np.concatenate((left_audiogram[:,:,np.newaxis],\n",
    "                                   right_audiogram[:,:,np.newaxis]),axis=2)\n",
    "    \n",
    "    return lr_audiogram\n",
    "\n",
    "\n",
    "\n",
    "def APGF_spectrogram(wav,fs,cfs):\n",
    "    \"\"\" cochleagram calculated with all pole gammatone filter\n",
    "    \n",
    "    Args:\n",
    "        wav: wave form, length(in sameple)*chanel_num\n",
    "        fs: sample frequency \n",
    "        cfs: center frequency of filter banks\n",
    "    Returns:\n",
    "        cochleargram, size: freq_channel_num*channel_num*sampel_num\n",
    "    \n",
    "    \"\"\"\n",
    "    freq_chann_num = cfs.shape[0]\n",
    "    \n",
    "    left_audiogram = APGF.GammatoneFilter(wav[:,0],fs,cfs)\n",
    "    right_audiogram = APGF.GammatoneFilter(wav[:,1],fs,cfs)\n",
    "    \n",
    "    lr_audiogram = np.concatenate((left_audiogram[:,:,np.newaxis],\n",
    "                                   right_audiogram[:,:,np.newaxis]),axis=2)\n",
    "    \n",
    "    return lr_audiogram\n",
    "\n",
    "\n",
    "\n",
    "def butter_spectrogram(wav,fs,cfs):\n",
    "    \"\"\"\n",
    "    \n",
    "    \"\"\"\n",
    "    wav_std = wav\n",
    "    wav_len = wav.shape[0]\n",
    "    \n",
    "    # auditory filter \n",
    "    filter_num = cfs.shape[0]\n",
    "    audiogram = np.zeros((filter_num,wav_len,2))\n",
    "    cutoff = np.zeros(2)\n",
    "    for filter_i in xrange(filter_num):\n",
    "        erb = GetERB(cfs[filter_i])\n",
    "        cutoff[0] = cfs[filter_i]-erb/2\n",
    "        cutoff[1] = cfs[filter_i]+erb/2\n",
    "        sos = dsp.butter(Wn=cutoff/fs*2,btype='bandpass',N=6,output='sos')\n",
    "        audiogram[filter_i,:,:] = dsp.sosfiltfilt(x=wav_std,sos=sos,axis=0)\n",
    "    \n",
    "    return audiogram\n",
    "\n",
    "\n",
    "def Auditory_peripheral(wav,fs,cfs,filter_type,ihc_type=None):\n",
    "    \"\"\"ihc_type: different model used in previous work\n",
    "            Lindemann: half-wave rectify + low-pass filter(1th Butterworth, cutoff-frequency 800Hz)\n",
    "            Breebart: half-wave rectify + low-pass filter(5th, cutoff-frequency 770Hz)\n",
    "            More to added.... \n",
    "    \"\"\"\n",
    "    if len(cfs.shape) == 0:\n",
    "        cfs = np.reshape(cfs,newshape=[1])\n",
    "        \n",
    "    freq_chann_num = cfs.shape[0]\n",
    "\n",
    "    if filter_type=='Gammatone':\n",
    "        audiogram = GF_spectrogram(wav,fs,cfs)\n",
    "    elif filter_type == 'Gammatone_AP':\n",
    "        audiogram = APGF_spectrogram(wav,fs,cfs)\n",
    "    elif filter_type == 'Butterworth':\n",
    "        audiogram = butter_spectrogram(wav,fs,cfs)\n",
    "    else:\n",
    "        raise Exception('unsupported filter type')\n",
    "    \n",
    "    if audiogram.shape[0] != freq_chann_num:\n",
    "        raise Exception('wrong shape of audiogram')\n",
    "    \n",
    "    if ihc_type == None:\n",
    "        env = audiogram\n",
    "    else:\n",
    "#         print 'ihc model: %s'%ihc_type\n",
    "        env = Haircell_model(audiogram,fs,ihc_type)\n",
    "    \n",
    "    return [audiogram,env]\n",
    "\n",
    "\n",
    "def GetCues(tar,interfer,fs,frame_len,filter_type,cfs,frame_shift=None,max_delay=None,ihc_type=None):\n",
    "    \"\"\"calculate binaural localization cues, [itds,ilds,ccfs]\n",
    "    \n",
    "    Args:\n",
    "        tar: target signal\n",
    "        fs: sample frequency\n",
    "        frame_len: \n",
    "        filter_type: \"Gammatone\" / \"Butterworth\"\n",
    "        cfs: center frequencies of filters\n",
    "        frame_shift: default frame_len/2\n",
    "        max_daly: the maximum delay(sample), default frame_len-1\n",
    "        ihc_type: different model used in previous work\n",
    "            Lindemann: half-wave rectify + low-pass filter(1th Butterworth, cutoff-frequency 800Hz)\n",
    "            Breebart: half-wave rectify + low-pass filter(5th, cutoff-frequency 770Hz)\n",
    "            More to added.... \n",
    "    Returns:\n",
    "        [[itds,ilds],ccfs]\n",
    "    \"\"\"\n",
    "    \n",
    "    wav_len = tar.shape[0]\n",
    "    if wav_len != interfer.shape[0]:\n",
    "        raise Exception('length do match')\n",
    "    \n",
    "    if frame_shift == None: # default overlap: frame_len/2\n",
    "        frame_shift = int(frame_len/2)\n",
    "    \n",
    "    freq_chann_num = cfs.shape[0]\n",
    "    \n",
    "    tar_audiogram,_ = Auditory_peripheral(tar,fs,cfs,filter_type,ihc_type)\n",
    "    interfer_audiogram = Auditory_peripheral(interfer,fs,cfs,filter_type,ihc_type)\n",
    "    \n",
    "    mix_audiogram = tar_audiogram + interfer_audiogram\n",
    "    \n",
    "    if ihc_type == None:\n",
    "        mix_env = mix_audiogram\n",
    "    else:\n",
    "        print 'ihc model: %s'%ihc_type\n",
    "        mix_env = Haircell_model(mix_audiogram,fs,ihc_type)\n",
    "    \n",
    "\n",
    "    frame_num = int((wav_len-frame_len-frame_len)/frame_shift+1)    \n",
    "    if max_delay == None:\n",
    "        max_delay = frame_len-1\n",
    "\n",
    "    spatial_cues = np.zeros((freq_chann_num,frame_num,2),dtype=np.float32) # [itd_frame,ild_frame]\n",
    "    ccf_std_all = np.zeros((freq_chann_num,frame_num,max_delay*2+1),dtype=np.float32)\n",
    "    SNR_all = np.zeros((freq_chann_num,frame_num),dtype=np.float32)\n",
    "    \n",
    "    for freq_chann_i in xrange(freq_chann_num):\n",
    "        itds_chann = []\n",
    "        ilds_chann = []\n",
    "        ccfs_chann = []\n",
    "        # print(cfs[freq_chann_i])\n",
    "        for frame_i in xrange(frame_num):\n",
    "            frame_start_pos = frame_i*frame_shift+frame_len\n",
    "            frame_end_pos = frame_start_pos+frame_len\n",
    "        \n",
    "            mix_env_chann_fram = mix_env[freq_chann_i,frame_start_pos:frame_end_pos]\n",
    "            \n",
    "            tar_chann_frame = tar_audiogram[freq_chann_i,frame_start_pos:frame_end_pos]\n",
    "            interfer_chann_frame = interfer_audiogram[freq_chann_i,frame_start_pos:frame_end_pos]\n",
    "            SNR_chan_frame = 10*np.log10(np.sum(tar_chann_frame**2)/np.sum(interfer_chann_frame**2))\n",
    "            \n",
    "            # bianural cues\n",
    "            itd_frame,ccf_std_frame = get_ITD(mix_env_chann_fram,fs,max_delay=max_delay)\n",
    "            ild_frame = get_ILD(mix_env_chann_fram)\n",
    "            # check whether ILD is valid\n",
    "            if ild_frame == np.infty:\n",
    "                print freq_channel_i,frame_i\n",
    "                raise Exception('invalid ild')\n",
    "                \n",
    "            spatial_cues[freq_chann_i,frame_i,0]=itd_frame\n",
    "            spatial_cues[freq_chann_i,frame_i,1]=ild_frame\n",
    "            ccf_std_all[freq_chann_i,frame_i,:] = ccf_std_frame\n",
    "            SNR_all[freq_chann_i,frame_i] = SNR_chan_frame\n",
    "            \n",
    "    return [spatial_cues,ccf_std_all,SNR_all]\n",
    "\n",
    "\n",
    "def ProcessBar(max_count=100):\n",
    "    f = FloatProgress(min=0, max=max_count) # instantiate the bar\n",
    "    display(f) # display the bar\n",
    "    return f\n",
    "\n",
    "\n",
    "def GetCues_clean(tar,fs,frame_len,filter_type,cfs,frame_shift=None,max_delay=None,ihc_type=None):\n",
    "    \"\"\"calculate binaural localization cues, [itds,ilds,ccfs]\n",
    "    \n",
    "    Args:\n",
    "        tar: target signal\n",
    "        fs: sample frequency\n",
    "        frame_len: \n",
    "        filter_type: \"Gammatone\" / \"Butterworth\"\n",
    "        cfs: center frequencies of filters\n",
    "        frame_shift: default frame_len/2\n",
    "        max_daly: the maximum delay(sample), default frame_len-1\n",
    "        ihc_type: different model used in previous work\n",
    "            Lindemann: half-wave rectify + low-pass filter(1th Butterworth, cutoff-frequency 800Hz)\n",
    "            Breebart: half-wave rectify + low-pass filter(5th, cutoff-frequency 770Hz)\n",
    "            More to added.... \n",
    "    Returns:\n",
    "        [[itds,ilds],ccfs]\n",
    "    \"\"\"\n",
    "    \n",
    "    wav_len = tar.shape[0]\n",
    "    \n",
    "    if frame_shift == None: # default overlap: frame_len/2\n",
    "        frame_shift = int(frame_len/2)\n",
    "    \n",
    "    freq_chann_num = cfs.shape[0]\n",
    "    \n",
    "    _,tar_env = Auditory_peripheral(tar,fs,cfs,filter_type,ihc_type)\n",
    "\n",
    "    frame_num = int((wav_len-frame_len-frame_len)/frame_shift+1)\n",
    "    spatial_cues = np.zeros((freq_chann_num,frame_num,2),dtype=np.float32) # [itd_frame,ild_frame]\n",
    "    \n",
    "    if max_delay == None:\n",
    "        max_delay = frame_len-1\n",
    "        \n",
    "    ccf_std_all = np.zeros((freq_chann_num,frame_num,max_delay*2+1),dtype=np.float32)\n",
    "    \n",
    "    for freq_chann_i in xrange(freq_chann_num):\n",
    "        itds_chann = []\n",
    "        ilds_chann = []\n",
    "        ccfs_chann = []\n",
    "        # print(cfs[freq_chann_i])\n",
    "        for frame_i in xrange(frame_num):\n",
    "            frame_start_pos = frame_i*frame_shift+frame_len\n",
    "            frame_end_pos = frame_start_pos+frame_len\n",
    "            \n",
    "            tar_chann_frame = tar_env[freq_chann_i,frame_start_pos:frame_end_pos,:]\n",
    "            \n",
    "            ##################\n",
    "#             pdb.set_trace()\n",
    "            # raw_input('pause: ')\n",
    "            ##################\n",
    "            \n",
    "            # bianural cues\n",
    "            \n",
    "            itd_frame,ccf_std_frame = get_ITD(tar_chann_frame,fs,max_delay=max_delay)\n",
    "            ild_frame = get_ILD(tar_chann_frame)\n",
    "            # check whether ILD is valid\n",
    "            if ild_frame == np.infty:\n",
    "                print freq_channel_i,frame_i\n",
    "                raise Exception('invalid ild')\n",
    "                \n",
    "            spatial_cues[freq_chann_i,frame_i,0]=itd_frame\n",
    "            spatial_cues[freq_chann_i,frame_i,1]=ild_frame\n",
    "            ccf_std_all[freq_chann_i,frame_i,:] = ccf_std_frame\n",
    "            \n",
    "    return [spatial_cues,ccf_std_all]"
   ]
  },
  {
   "cell_type": "markdown",
   "metadata": {},
   "source": [
    "# Test"
   ]
  },
  {
   "cell_type": "code",
   "execution_count": 3,
   "metadata": {
    "ExecuteTime": {
     "end_time": "2019-04-13T11:14:05.568931Z",
     "start_time": "2019-04-13T11:14:05.561410Z"
    },
    "collapsed": true
   },
   "outputs": [],
   "source": [
    "import matplotlib.pyplot as plt\n",
    "%matplotlib inline"
   ]
  },
  {
   "cell_type": "code",
   "execution_count": 8,
   "metadata": {
    "ExecuteTime": {
     "end_time": "2019-04-13T11:17:01.121326Z",
     "start_time": "2019-04-13T11:17:01.112628Z"
    },
    "collapsed": true
   },
   "outputs": [],
   "source": []
  },
  {
   "cell_type": "code",
   "execution_count": 4,
   "metadata": {
    "ExecuteTime": {
     "end_time": "2019-04-13T11:21:35.623999Z",
     "start_time": "2019-04-13T11:21:35.565501Z"
    },
    "collapsed": true
   },
   "outputs": [],
   "source": [
    "tar,fs = sf.read('spatial_wn.wav')"
   ]
  },
  {
   "cell_type": "code",
   "execution_count": 8,
   "metadata": {
    "ExecuteTime": {
     "end_time": "2019-04-13T11:22:55.202810Z",
     "start_time": "2019-04-13T11:22:53.766584Z"
    },
    "collapsed": true
   },
   "outputs": [],
   "source": [
    "tar = dsp.resample(tar,tar.shape[0]/48000*16000)"
   ]
  },
  {
   "cell_type": "code",
   "execution_count": 9,
   "metadata": {
    "ExecuteTime": {
     "end_time": "2019-04-13T11:22:57.454531Z",
     "start_time": "2019-04-13T11:22:57.448370Z"
    },
    "collapsed": true
   },
   "outputs": [],
   "source": [
    "cfs = gt_filters.centre_freqs(cutoff=80,fs=16000,num_freqs=30)"
   ]
  },
  {
   "cell_type": "code",
   "execution_count": 10,
   "metadata": {
    "ExecuteTime": {
     "end_time": "2019-04-13T11:23:31.960828Z",
     "start_time": "2019-04-13T11:22:58.677263Z"
    },
    "collapsed": true,
    "scrolled": true
   },
   "outputs": [],
   "source": [
    "cues_butter,ccf = GetCues_clean(cfs=cfs[-2:],\n",
    "                           filter_type='Butterworth',\n",
    "                           frame_len=int(fs*0.023),\n",
    "                           frame_shift=int(fs*0.023),\n",
    "                           tar=tar,fs=fs,\n",
    "                           max_delay=int(fs*0.001),\n",
    "                           ihc_type='Breebaart')"
   ]
  },
  {
   "cell_type": "code",
   "execution_count": 11,
   "metadata": {
    "ExecuteTime": {
     "end_time": "2019-04-13T11:24:04.146903Z",
     "start_time": "2019-04-13T11:23:32.001649Z"
    },
    "collapsed": true
   },
   "outputs": [],
   "source": [
    "cues_gamma,ccf = GetCues_clean(cfs=cfs[-2:],\n",
    "                           filter_type='Gammatone',\n",
    "                           frame_len=int(fs*0.023),\n",
    "                           frame_shift=int(fs*0.023),\n",
    "                           tar=tar,fs=fs,\n",
    "                           max_delay=int(fs*0.001),\n",
    "                           ihc_type='Breebaart')"
   ]
  },
  {
   "cell_type": "code",
   "execution_count": 12,
   "metadata": {
    "ExecuteTime": {
     "end_time": "2019-04-13T11:25:04.419140Z",
     "start_time": "2019-04-13T11:24:04.211365Z"
    },
    "collapsed": true
   },
   "outputs": [],
   "source": [
    "cues_gamma_ap,ccf = GetCues_clean(cfs=cfs[-2:],\n",
    "                           filter_type='Gammatone_AP',\n",
    "                           frame_len=int(fs*0.023),\n",
    "                           frame_shift=int(fs*0.023),\n",
    "                           tar=tar,fs=fs,\n",
    "                           max_delay=int(fs*0.001),\n",
    "                           ihc_type='Breebaart')"
   ]
  },
  {
   "cell_type": "markdown",
   "metadata": {},
   "source": [
    "ITD"
   ]
  },
  {
   "cell_type": "code",
   "execution_count": 16,
   "metadata": {
    "ExecuteTime": {
     "end_time": "2019-04-13T11:25:47.951649Z",
     "start_time": "2019-04-13T11:25:46.959851Z"
    }
   },
   "outputs": [
    {
     "data": {
      "image/png": "[encoded data removed]",
      "text/plain": [
       "<matplotlib.figure.Figure at 0x7f9cee5ba550>"
      ]
     },
     "metadata": {},
     "output_type": "display_data"
    }
   ],
   "source": [
    "plt.subplot(131); plt.plot(cues_butter[-1,:,0]); plt.title('butter')\n",
    "plt.subplot(132); plt.plot(cues_gamma[-1,:,0]); plt.title('gammatone')\n",
    "plt.subplot(133); plt.plot(cues_gamma_ap[-1,:,0]); plt.title('gammatone_ap')\n",
    "plt.tight_layout()"
   ]
  },
  {
   "cell_type": "code",
   "execution_count": 17,
   "metadata": {
    "ExecuteTime": {
     "end_time": "2019-04-13T11:25:49.096565Z",
     "start_time": "2019-04-13T11:25:48.171371Z"
    }
   },
   "outputs": [
    {
     "data": {
      "image/png": "[encoded data removed]",
      "text/plain": [
       "<matplotlib.figure.Figure at 0x7f9cee2829d0>"
      ]
     },
     "metadata": {},
     "output_type": "display_data"
    }
   ],
   "source": [
    "plt.subplot(131); plt.plot(cues_butter[0,:,0]); plt.title('butter')\n",
    "plt.subplot(132); plt.plot(cues_gamma[0,:,0]); plt.title('gammatone')\n",
    "plt.subplot(133); plt.plot(cues_gamma_ap[0,:,0]); plt.title('gammatone_ap')\n",
    "plt.tight_layout()"
   ]
  },
  {
   "cell_type": "markdown",
   "metadata": {},
   "source": [
    "ILD"
   ]
  },
  {
   "cell_type": "code",
   "execution_count": 18,
   "metadata": {
    "ExecuteTime": {
     "end_time": "2019-04-13T11:26:56.081224Z",
     "start_time": "2019-04-13T11:26:55.132870Z"
    }
   },
   "outputs": [
    {
     "data": {
      "image/png": "[encoded data removed]",
      "text/plain": [
       "<matplotlib.figure.Figure at 0x7f9cee431990>"
      ]
     },
     "metadata": {},
     "output_type": "display_data"
    }
   ],
   "source": [
    "plt.subplot(131); plt.plot(cues_butter[-1,:,1]); plt.title('butter')\n",
    "plt.subplot(132); plt.plot(cues_gamma[-1,:,1]); plt.title('gammatone')\n",
    "plt.subplot(133); plt.plot(cues_gamma_ap[-1,:,1]); plt.title('gammatone_ap')\n",
    "plt.tight_layout()"
   ]
  },
  {
   "cell_type": "code",
   "execution_count": 19,
   "metadata": {
    "ExecuteTime": {
     "end_time": "2019-04-13T11:27:22.937210Z",
     "start_time": "2019-04-13T11:27:21.784990Z"
    }
   },
   "outputs": [
    {
     "data": {
      "image/png": "[encoded data removed]",
      "text/plain": [
       "<matplotlib.figure.Figure at 0x7f9cc084f490>"
      ]
     },
     "metadata": {},
     "output_type": "display_data"
    }
   ],
   "source": [
    "plt.subplot(131); plt.plot(cues_butter[0,:,0]); plt.title('butter')\n",
    "plt.subplot(132); plt.plot(cues_gamma[0,:,0]); plt.title('gammatone')\n",
    "plt.subplot(133); plt.plot(cues_gamma_ap[0,:,0]); plt.title('gammatone_ap')\n",
    "plt.tight_layout()"
   ]
  },
  {
   "cell_type": "code",
   "execution_count": null,
   "metadata": {
    "collapsed": true
   },
   "outputs": [],
   "source": []
  }
 ],
 "metadata": {
  "kernelspec": {
   "display_name": "Python 2",
   "language": "python",
   "name": "python2"
  },
  "language_info": {
   "codemirror_mode": {
    "name": "ipython",
    "version": 2
   },
   "file_extension": ".py",
   "mimetype": "text/x-python",
   "name": "python",
   "nbconvert_exporter": "python",
   "pygments_lexer": "ipython2",
   "version": "2.7.12"
  },
  "toc": {
   "nav_menu": {},
   "number_sections": true,
   "sideBar": true,
   "skip_h1_title": false,
   "toc_cell": false,
   "toc_position": {
    "height": "731px",
    "left": "0px",
    "right": "1197px",
    "top": "106px",
    "width": "243px"
   },
   "toc_section_display": true,
   "toc_window_display": true
  },
  "varInspector": {
   "cols": {
    "lenName": 16,
    "lenType": 16,
    "lenVar": 40
   },
   "kernels_config": {
    "python": {
     "delete_cmd_postfix": "",
     "delete_cmd_prefix": "del ",
     "library": "var_list.py",
     "varRefreshCmd": "print(var_dic_list())"
    },
    "r": {
     "delete_cmd_postfix": ") ",
     "delete_cmd_prefix": "rm(",
     "library": "var_list.r",
     "varRefreshCmd": "cat(var_dic_list()) "
    }
   },
   "types_to_exclude": [
    "module",
    "function",
    "builtin_function_or_method",
    "instance",
    "_Feature"
   ],
   "window_display": false
  }
 },
 "nbformat": 4,
 "nbformat_minor": 2
}
